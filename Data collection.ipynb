{
 "cells": [
  {
   "cell_type": "code",
   "execution_count": null,
   "id": "32eaf324-9971-48da-a2bf-738d6cac8686",
   "metadata": {},
   "outputs": [],
   "source": [
    "Data Collection\n",
    "\n",
    "In this phase we will collect customer rating data from this airline website called \n",
    "skytrax"
   ]
  },
  {
   "cell_type": "code",
   "execution_count": 132,
   "id": "d5a61eb9",
   "metadata": {},
   "outputs": [],
   "source": [
    "import pandas as pd\n",
    "import numpy as np\n",
    "from bs4 import BeautifulSoup\n",
    "import requests"
   ]
  },
  {
   "cell_type": "code",
   "execution_count": 133,
   "id": "f5e0a30d",
   "metadata": {},
   "outputs": [],
   "source": [
    "#create an empty list of all reviews\n",
    "reviews = []\n",
    "\n",
    "#create an empty list to collect rating star\n",
    "stars = []\n",
    "\n",
    "#create an empty list to collect dates\n",
    "dates =[]\n",
    "\n",
    "#create an empty list to collect the country the reviewer is from\n",
    "country = []"
   ]
  },
  {
   "cell_type": "code",
   "execution_count": 141,
   "id": "09a94e9b",
   "metadata": {},
   "outputs": [],
   "source": [
    "for i in range(1, 39):\n",
    "    page = requests.get(f'https://www.airlinequality.com/airline-reviews/british-airways/page/{i}/?sortby=post_date%3ADesc&pagesize=20')\n",
    "    \n",
    "    soup = BeautifulSoup(page.content, 'html.parser')\n",
    "    \n",
    "    for item in soup.find_all(\"div\", class_= \"text_content\"):\n",
    "        reviews.append(item.text)\n",
    "    \n",
    "    for item in soup.find_all(\"div\", class_= \"rating-10\"):\n",
    "        try:\n",
    "            stars.append(item.span.text)\n",
    "        except:\n",
    "            print(f\"Error on page {i}\")\n",
    "            stars.append(\"None\")\n",
    "   #dates\n",
    "    for item in soup.find_all(\"time\"):\n",
    "        dates.append(item.text)\n",
    "    \n",
    "    #country\n",
    "    for item in soup.find_all(\"h3\"):\n",
    "        country.append(item.span.next_sibling.text.strip(\" ()\"))"
   ]
  },
  {
   "cell_type": "code",
   "execution_count": 142,
   "id": "edcf7f13",
   "metadata": {},
   "outputs": [
    {
     "data": {
      "text/plain": [
       "3740"
      ]
     },
     "execution_count": 142,
     "metadata": {},
     "output_type": "execute_result"
    }
   ],
   "source": [
    "#check the lenght of total reviews extracted\n",
    "len(reviews)"
   ]
  },
  {
   "cell_type": "code",
   "execution_count": 143,
   "id": "d6a9fe24",
   "metadata": {},
   "outputs": [
    {
     "data": {
      "text/plain": [
       "3740"
      ]
     },
     "execution_count": 143,
     "metadata": {},
     "output_type": "execute_result"
    }
   ],
   "source": [
    "len(country)"
   ]
  },
  {
   "cell_type": "code",
   "execution_count": 144,
   "id": "8408f5ce",
   "metadata": {},
   "outputs": [],
   "source": [
    "#check the kength of stars\n",
    "stars = stars[:3740]"
   ]
  },
  {
   "cell_type": "code",
   "execution_count": 145,
   "id": "28c4eecd",
   "metadata": {},
   "outputs": [],
   "source": [
    "#create a datafram from these list of data\n",
    "\n",
    "df = pd.DataFrame({\"reviews\":reviews, \"stars\":stars, \"date\":dates, \"country\":country})"
   ]
  },
  {
   "cell_type": "code",
   "execution_count": 146,
   "id": "2e855580",
   "metadata": {},
   "outputs": [
    {
     "data": {
      "text/html": [
       "<div>\n",
       "<style scoped>\n",
       "    .dataframe tbody tr th:only-of-type {\n",
       "        vertical-align: middle;\n",
       "    }\n",
       "\n",
       "    .dataframe tbody tr th {\n",
       "        vertical-align: top;\n",
       "    }\n",
       "\n",
       "    .dataframe thead th {\n",
       "        text-align: right;\n",
       "    }\n",
       "</style>\n",
       "<table border=\"1\" class=\"dataframe\">\n",
       "  <thead>\n",
       "    <tr style=\"text-align: right;\">\n",
       "      <th></th>\n",
       "      <th>reviews</th>\n",
       "      <th>stars</th>\n",
       "      <th>date</th>\n",
       "      <th>country</th>\n",
       "    </tr>\n",
       "  </thead>\n",
       "  <tbody>\n",
       "    <tr>\n",
       "      <th>0</th>\n",
       "      <td>✅ Trip Verified |  First our morning flight wa...</td>\n",
       "      <td>\\n\\t\\t\\t\\t\\t\\t\\t\\t\\t\\t\\t\\t\\t5</td>\n",
       "      <td>28th February 2023</td>\n",
       "      <td>Canada</td>\n",
       "    </tr>\n",
       "    <tr>\n",
       "      <th>1</th>\n",
       "      <td>✅ Trip Verified |  Although it was a bit uncom...</td>\n",
       "      <td>1</td>\n",
       "      <td>27th February 2023</td>\n",
       "      <td>United Kingdom</td>\n",
       "    </tr>\n",
       "    <tr>\n",
       "      <th>2</th>\n",
       "      <td>✅ Trip Verified |  Boarding was decently organ...</td>\n",
       "      <td>8</td>\n",
       "      <td>27th February 2023</td>\n",
       "      <td>Belgium</td>\n",
       "    </tr>\n",
       "    <tr>\n",
       "      <th>3</th>\n",
       "      <td>✅ Trip Verified | Boarding on time and departu...</td>\n",
       "      <td>6</td>\n",
       "      <td>27th February 2023</td>\n",
       "      <td>Belgium</td>\n",
       "    </tr>\n",
       "    <tr>\n",
       "      <th>4</th>\n",
       "      <td>✅ Trip Verified |  My original flight was canc...</td>\n",
       "      <td>7</td>\n",
       "      <td>26th February 2023</td>\n",
       "      <td>United Kingdom</td>\n",
       "    </tr>\n",
       "  </tbody>\n",
       "</table>\n",
       "</div>"
      ],
      "text/plain": [
       "                                             reviews  \\\n",
       "0  ✅ Trip Verified |  First our morning flight wa...   \n",
       "1  ✅ Trip Verified |  Although it was a bit uncom...   \n",
       "2  ✅ Trip Verified |  Boarding was decently organ...   \n",
       "3  ✅ Trip Verified | Boarding on time and departu...   \n",
       "4  ✅ Trip Verified |  My original flight was canc...   \n",
       "\n",
       "                           stars                date         country  \n",
       "0  \\n\\t\\t\\t\\t\\t\\t\\t\\t\\t\\t\\t\\t\\t5  28th February 2023          Canada  \n",
       "1                              1  27th February 2023  United Kingdom  \n",
       "2                              8  27th February 2023         Belgium  \n",
       "3                              6  27th February 2023         Belgium  \n",
       "4                              7  26th February 2023  United Kingdom  "
      ]
     },
     "execution_count": 146,
     "metadata": {},
     "output_type": "execute_result"
    }
   ],
   "source": [
    "df.head()"
   ]
  },
  {
   "cell_type": "code",
   "execution_count": 148,
   "id": "d5459258",
   "metadata": {},
   "outputs": [
    {
     "data": {
      "text/plain": [
       "(3740, 4)"
      ]
     },
     "execution_count": 148,
     "metadata": {},
     "output_type": "execute_result"
    }
   ],
   "source": [
    "df.shape"
   ]
  },
  {
   "cell_type": "code",
   "execution_count": 150,
   "id": "04023581",
   "metadata": {},
   "outputs": [],
   "source": [
    "# Export the data into csv file\n",
    "import os\n",
    "\n",
    "cwd = os.getcwd()\n",
    "df.to_csv(cwd+ \"/BA_reviews.csv\")"
   ]
  },
  {
   "cell_type": "code",
   "execution_count": null,
   "id": "8257f8a8",
   "metadata": {},
   "outputs": [],
   "source": []
  }
 ],
 "metadata": {
  "kernelspec": {
   "display_name": "Python 3 (ipykernel)",
   "language": "python",
   "name": "python3"
  },
  "language_info": {
   "codemirror_mode": {
    "name": "ipython",
    "version": 3
   },
   "file_extension": ".py",
   "mimetype": "text/x-python",
   "name": "python",
   "nbconvert_exporter": "python",
   "pygments_lexer": "ipython3",
   "version": "3.9.13"
  }
 },
 "nbformat": 4,
 "nbformat_minor": 5
}

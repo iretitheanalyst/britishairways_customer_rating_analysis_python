{
 "cells": [
  {
   "cell_type": "markdown",
   "id": "69964430",
   "metadata": {},
   "source": [
    "# Data Cleaning"
   ]
  },
  {
   "cell_type": "markdown",
   "id": "464c4bf8",
   "metadata": {},
   "source": [
    "Now since the data has been extracted from the website, it is not cleaned  and ready to be analyzed yet. The reviews will have to be cleaned of punctuation, spellings and other characters"
   ]
  },
  {
   "cell_type": "code",
   "execution_count": 1,
   "id": "8946c0ad",
   "metadata": {},
   "outputs": [],
   "source": [
    "import pandas as pd\n",
    "import matplotlib.pyplot as plt\n",
    "import seaborn as sns\n",
    "import os\n",
    "\n",
    "#regex\n",
    "import re"
   ]
  },
  {
   "cell_type": "code",
   "execution_count": 2,
   "id": "06c178e0",
   "metadata": {},
   "outputs": [],
   "source": [
    "#create a dataframe from csv file\n",
    "\n",
    "cwd = os.getcwd()\n",
    "df = pd.read_csv(cwd+ \"/BA_reviews.csv\", index_col= 0)"
   ]
  },
  {
   "cell_type": "code",
   "execution_count": 6,
   "id": "0fce1916",
   "metadata": {},
   "outputs": [
    {
     "data": {
      "text/html": [
       "<div>\n",
       "<style scoped>\n",
       "    .dataframe tbody tr th:only-of-type {\n",
       "        vertical-align: middle;\n",
       "    }\n",
       "\n",
       "    .dataframe tbody tr th {\n",
       "        vertical-align: top;\n",
       "    }\n",
       "\n",
       "    .dataframe thead th {\n",
       "        text-align: right;\n",
       "    }\n",
       "</style>\n",
       "<table border=\"1\" class=\"dataframe\">\n",
       "  <thead>\n",
       "    <tr style=\"text-align: right;\">\n",
       "      <th></th>\n",
       "      <th>reviews</th>\n",
       "      <th>stars</th>\n",
       "      <th>date</th>\n",
       "      <th>country</th>\n",
       "      <th>verified</th>\n",
       "    </tr>\n",
       "  </thead>\n",
       "  <tbody>\n",
       "    <tr>\n",
       "      <th>0</th>\n",
       "      <td>✅ Trip Verified |  First our morning flight wa...</td>\n",
       "      <td>5</td>\n",
       "      <td>28th February 2023</td>\n",
       "      <td>Canada</td>\n",
       "      <td>True</td>\n",
       "    </tr>\n",
       "    <tr>\n",
       "      <th>1</th>\n",
       "      <td>✅ Trip Verified |  Although it was a bit uncom...</td>\n",
       "      <td>1</td>\n",
       "      <td>27th February 2023</td>\n",
       "      <td>United Kingdom</td>\n",
       "      <td>True</td>\n",
       "    </tr>\n",
       "    <tr>\n",
       "      <th>2</th>\n",
       "      <td>✅ Trip Verified |  Boarding was decently organ...</td>\n",
       "      <td>8</td>\n",
       "      <td>27th February 2023</td>\n",
       "      <td>Belgium</td>\n",
       "      <td>True</td>\n",
       "    </tr>\n",
       "    <tr>\n",
       "      <th>3</th>\n",
       "      <td>✅ Trip Verified | Boarding on time and departu...</td>\n",
       "      <td>6</td>\n",
       "      <td>27th February 2023</td>\n",
       "      <td>Belgium</td>\n",
       "      <td>True</td>\n",
       "    </tr>\n",
       "    <tr>\n",
       "      <th>4</th>\n",
       "      <td>✅ Trip Verified |  My original flight was canc...</td>\n",
       "      <td>7</td>\n",
       "      <td>26th February 2023</td>\n",
       "      <td>United Kingdom</td>\n",
       "      <td>True</td>\n",
       "    </tr>\n",
       "  </tbody>\n",
       "</table>\n",
       "</div>"
      ],
      "text/plain": [
       "                                             reviews  stars  \\\n",
       "0  ✅ Trip Verified |  First our morning flight wa...      5   \n",
       "1  ✅ Trip Verified |  Although it was a bit uncom...      1   \n",
       "2  ✅ Trip Verified |  Boarding was decently organ...      8   \n",
       "3  ✅ Trip Verified | Boarding on time and departu...      6   \n",
       "4  ✅ Trip Verified |  My original flight was canc...      7   \n",
       "\n",
       "                 date         country  verified  \n",
       "0  28th February 2023          Canada      True  \n",
       "1  27th February 2023  United Kingdom      True  \n",
       "2  27th February 2023         Belgium      True  \n",
       "3  27th February 2023         Belgium      True  \n",
       "4  26th February 2023  United Kingdom      True  "
      ]
     },
     "execution_count": 6,
     "metadata": {},
     "output_type": "execute_result"
    }
   ],
   "source": [
    "df.head()"
   ]
  },
  {
   "cell_type": "markdown",
   "id": "5a5d5de8",
   "metadata": {},
   "source": [
    "we will also create a column which mentions if the user is verified"
   ]
  },
  {
   "cell_type": "code",
   "execution_count": 4,
   "id": "56674e09",
   "metadata": {},
   "outputs": [],
   "source": [
    "df['verified'] = df.reviews.str.contains(\"Trip Verified\")"
   ]
  },
  {
   "cell_type": "markdown",
   "id": "1d730062",
   "metadata": {},
   "source": [
    "we will extract the column of the reviews into a seperate dataframe  and clean it for semantics analysis"
   ]
  },
  {
   "cell_type": "code",
   "execution_count": 22,
   "id": "0a894a28",
   "metadata": {},
   "outputs": [
    {
     "name": "stderr",
     "output_type": "stream",
     "text": [
      "[nltk_data] Downloading package omw-1.4 to\n",
      "[nltk_data]     C:\\Users\\Administrator\\AppData\\Roaming\\nltk_data...\n",
      "[nltk_data]   Package omw-1.4 is already up-to-date!\n"
     ]
    }
   ],
   "source": [
    "#for lemmatization of words we will use the library nltk\n",
    "from nltk.stem import WordNetLemmatizer\n",
    "from nltk.corpus import stopwords\n",
    "lemma = WordNetLemmatizer()\n",
    "\n",
    "reviews_data = df.reviews.str.strip(\"✅ Trip Verified |\")\n",
    "\n",
    "#create an empty list to collect cleaned data corpus\n",
    "corpus = []\n",
    "\n",
    "#loop through each review, rmeove punctuation, small case it, join it and add it to corpus\n",
    "for rev in reviews_data:\n",
    "    rev = re.sub('[^a-zA-Z]', ' ', rev)\n",
    "    rev = rev.lower()\n",
    "    rev = rev.split()\n",
    "    rev = [lemma.lemmatize(word) for word in rev if word not in set(stopwords.words('english'))]\n",
    "    rev = \" \".join(rev)\n",
    "    corpus.append(rev)\n",
    "    "
   ]
  },
  {
   "cell_type": "code",
   "execution_count": 23,
   "id": "039c8f1e",
   "metadata": {},
   "outputs": [],
   "source": [
    "#add the corpus to the original dataframe\n",
    "\n",
    "df['corpus'] = corpus"
   ]
  },
  {
   "cell_type": "code",
   "execution_count": 27,
   "id": "ab19ad71",
   "metadata": {},
   "outputs": [
    {
     "data": {
      "text/html": [
       "<div>\n",
       "<style scoped>\n",
       "    .dataframe tbody tr th:only-of-type {\n",
       "        vertical-align: middle;\n",
       "    }\n",
       "\n",
       "    .dataframe tbody tr th {\n",
       "        vertical-align: top;\n",
       "    }\n",
       "\n",
       "    .dataframe thead th {\n",
       "        text-align: right;\n",
       "    }\n",
       "</style>\n",
       "<table border=\"1\" class=\"dataframe\">\n",
       "  <thead>\n",
       "    <tr style=\"text-align: right;\">\n",
       "      <th></th>\n",
       "      <th>reviews</th>\n",
       "      <th>stars</th>\n",
       "      <th>date</th>\n",
       "      <th>country</th>\n",
       "      <th>verified</th>\n",
       "      <th>corpus</th>\n",
       "    </tr>\n",
       "  </thead>\n",
       "  <tbody>\n",
       "    <tr>\n",
       "      <th>0</th>\n",
       "      <td>✅ Trip Verified |  First our morning flight wa...</td>\n",
       "      <td>5</td>\n",
       "      <td>28th February 2023</td>\n",
       "      <td>Canada</td>\n",
       "      <td>True</td>\n",
       "      <td>first morning flight cancelled moved afternoon...</td>\n",
       "    </tr>\n",
       "    <tr>\n",
       "      <th>1</th>\n",
       "      <td>✅ Trip Verified |  Although it was a bit uncom...</td>\n",
       "      <td>1</td>\n",
       "      <td>27th February 2023</td>\n",
       "      <td>United Kingdom</td>\n",
       "      <td>True</td>\n",
       "      <td>although bit uncomfortable flight economy flig...</td>\n",
       "    </tr>\n",
       "    <tr>\n",
       "      <th>2</th>\n",
       "      <td>✅ Trip Verified |  Boarding was decently organ...</td>\n",
       "      <td>8</td>\n",
       "      <td>27th February 2023</td>\n",
       "      <td>Belgium</td>\n",
       "      <td>True</td>\n",
       "      <td>boarding decently organised still rather stran...</td>\n",
       "    </tr>\n",
       "    <tr>\n",
       "      <th>3</th>\n",
       "      <td>✅ Trip Verified | Boarding on time and departu...</td>\n",
       "      <td>6</td>\n",
       "      <td>27th February 2023</td>\n",
       "      <td>Belgium</td>\n",
       "      <td>True</td>\n",
       "      <td>boarding time departure time flight london hea...</td>\n",
       "    </tr>\n",
       "    <tr>\n",
       "      <th>4</th>\n",
       "      <td>✅ Trip Verified |  My original flight was canc...</td>\n",
       "      <td>7</td>\n",
       "      <td>26th February 2023</td>\n",
       "      <td>United Kingdom</td>\n",
       "      <td>True</td>\n",
       "      <td>original flight cancelled week actual flight a...</td>\n",
       "    </tr>\n",
       "  </tbody>\n",
       "</table>\n",
       "</div>"
      ],
      "text/plain": [
       "                                             reviews  stars  \\\n",
       "0  ✅ Trip Verified |  First our morning flight wa...      5   \n",
       "1  ✅ Trip Verified |  Although it was a bit uncom...      1   \n",
       "2  ✅ Trip Verified |  Boarding was decently organ...      8   \n",
       "3  ✅ Trip Verified | Boarding on time and departu...      6   \n",
       "4  ✅ Trip Verified |  My original flight was canc...      7   \n",
       "\n",
       "                 date         country  verified  \\\n",
       "0  28th February 2023          Canada      True   \n",
       "1  27th February 2023  United Kingdom      True   \n",
       "2  27th February 2023         Belgium      True   \n",
       "3  27th February 2023         Belgium      True   \n",
       "4  26th February 2023  United Kingdom      True   \n",
       "\n",
       "                                              corpus  \n",
       "0  first morning flight cancelled moved afternoon...  \n",
       "1  although bit uncomfortable flight economy flig...  \n",
       "2  boarding decently organised still rather stran...  \n",
       "3  boarding time departure time flight london hea...  \n",
       "4  original flight cancelled week actual flight a...  "
      ]
     },
     "execution_count": 27,
     "metadata": {},
     "output_type": "execute_result"
    }
   ],
   "source": [
    "df.head()"
   ]
  },
  {
   "cell_type": "code",
   "execution_count": 26,
   "id": "acc20216",
   "metadata": {},
   "outputs": [
    {
     "data": {
      "text/plain": [
       "reviews     object\n",
       "stars        int64\n",
       "date        object\n",
       "country     object\n",
       "verified      bool\n",
       "corpus      object\n",
       "dtype: object"
      ]
     },
     "execution_count": 26,
     "metadata": {},
     "output_type": "execute_result"
    }
   ],
   "source": [
    "df.dtypes"
   ]
  },
  {
   "cell_type": "markdown",
   "id": "ff6e57c5",
   "metadata": {},
   "source": [
    "# Cleaning/Formatting the Date\n"
   ]
  },
  {
   "cell_type": "code",
   "execution_count": 28,
   "id": "43877a1f",
   "metadata": {},
   "outputs": [
    {
     "data": {
      "text/plain": [
       "0   2023-02-28\n",
       "1   2023-02-27\n",
       "2   2023-02-27\n",
       "3   2023-02-27\n",
       "4   2023-02-26\n",
       "Name: date, dtype: datetime64[ns]"
      ]
     },
     "execution_count": 28,
     "metadata": {},
     "output_type": "execute_result"
    }
   ],
   "source": [
    "#converting the date to datetime\n",
    "\n",
    "df.date = pd.to_datetime(df.date)\n",
    "df.date.head()"
   ]
  },
  {
   "cell_type": "markdown",
   "id": "f0933d79",
   "metadata": {},
   "source": [
    "# Cleaning ratings"
   ]
  },
  {
   "cell_type": "code",
   "execution_count": 29,
   "id": "26f7bb2e",
   "metadata": {},
   "outputs": [
    {
     "data": {
      "text/plain": [
       "array([ 5,  1,  8,  6,  7,  4,  9, 10,  2,  3], dtype=int64)"
      ]
     },
     "execution_count": 29,
     "metadata": {},
     "output_type": "execute_result"
    }
   ],
   "source": [
    "#Check for unique stars\n",
    "\n",
    "df.stars.unique()"
   ]
  },
  {
   "cell_type": "code",
   "execution_count": 31,
   "id": "52eb2e11",
   "metadata": {},
   "outputs": [],
   "source": [
    "#to remove any unique value with strings, do:\n",
    "# df.stars = df.stars.str.string(\"\\n\\t\\n\\t\")"
   ]
  },
  {
   "cell_type": "code",
   "execution_count": 32,
   "id": "e6361d76",
   "metadata": {},
   "outputs": [
    {
     "data": {
      "text/plain": [
       "1     1149\n",
       "10     387\n",
       "5      376\n",
       "2      373\n",
       "9      329\n",
       "3      322\n",
       "8      289\n",
       "4      205\n",
       "7      166\n",
       "6      144\n",
       "Name: stars, dtype: int64"
      ]
     },
     "execution_count": 32,
     "metadata": {},
     "output_type": "execute_result"
    }
   ],
   "source": [
    "df.stars.value_counts()"
   ]
  },
  {
   "cell_type": "code",
   "execution_count": 33,
   "id": "93b5d1cb",
   "metadata": {},
   "outputs": [],
   "source": [
    "#if there is any value that needed to be dropped such as NONE, do:\n",
    "  #df.drop(df[df.stars == \"None\"].index, axis=0, inplace = True)\n",
    "    \n",
    "    #then you can now check the unique values again"
   ]
  },
  {
   "cell_type": "code",
   "execution_count": 34,
   "id": "dba8fb66",
   "metadata": {},
   "outputs": [
    {
     "data": {
      "text/plain": [
       "array([ 5,  1,  8,  6,  7,  4,  9, 10,  2,  3], dtype=int64)"
      ]
     },
     "execution_count": 34,
     "metadata": {},
     "output_type": "execute_result"
    }
   ],
   "source": [
    "df.stars.unique()"
   ]
  },
  {
   "cell_type": "markdown",
   "id": "c0fba2c2",
   "metadata": {},
   "source": [
    "\n",
    "# Check for null values"
   ]
  },
  {
   "cell_type": "code",
   "execution_count": 35,
   "id": "315730e2",
   "metadata": {},
   "outputs": [
    {
     "data": {
      "text/plain": [
       "reviews  stars  date   country  verified  corpus\n",
       "False    False  False  False    False     False     3740\n",
       "dtype: int64"
      ]
     },
     "execution_count": 35,
     "metadata": {},
     "output_type": "execute_result"
    }
   ],
   "source": [
    "df.isnull().value_counts()"
   ]
  },
  {
   "cell_type": "code",
   "execution_count": 36,
   "id": "2dab18a0",
   "metadata": {},
   "outputs": [
    {
     "data": {
      "text/plain": [
       "False    3740\n",
       "Name: country, dtype: int64"
      ]
     },
     "execution_count": 36,
     "metadata": {},
     "output_type": "execute_result"
    }
   ],
   "source": [
    "df.country.isnull().value_counts()"
   ]
  },
  {
   "cell_type": "code",
   "execution_count": 38,
   "id": "6dc8e204",
   "metadata": {},
   "outputs": [],
   "source": [
    "#if we have missing values, drop the rows using index where the country value is null\n",
    "\n",
    "df.drop(df[df.country.isnull() == \"None\"].index, axis=0, inplace = True)"
   ]
  },
  {
   "cell_type": "code",
   "execution_count": 39,
   "id": "fc708ec7",
   "metadata": {},
   "outputs": [
    {
     "data": {
      "text/plain": [
       "(3740, 6)"
      ]
     },
     "execution_count": 39,
     "metadata": {},
     "output_type": "execute_result"
    }
   ],
   "source": [
    "df.shape"
   ]
  },
  {
   "cell_type": "code",
   "execution_count": 40,
   "id": "7e5012b6",
   "metadata": {},
   "outputs": [
    {
     "data": {
      "text/html": [
       "<div>\n",
       "<style scoped>\n",
       "    .dataframe tbody tr th:only-of-type {\n",
       "        vertical-align: middle;\n",
       "    }\n",
       "\n",
       "    .dataframe tbody tr th {\n",
       "        vertical-align: top;\n",
       "    }\n",
       "\n",
       "    .dataframe thead th {\n",
       "        text-align: right;\n",
       "    }\n",
       "</style>\n",
       "<table border=\"1\" class=\"dataframe\">\n",
       "  <thead>\n",
       "    <tr style=\"text-align: right;\">\n",
       "      <th></th>\n",
       "      <th>reviews</th>\n",
       "      <th>stars</th>\n",
       "      <th>date</th>\n",
       "      <th>country</th>\n",
       "      <th>verified</th>\n",
       "      <th>corpus</th>\n",
       "    </tr>\n",
       "  </thead>\n",
       "  <tbody>\n",
       "    <tr>\n",
       "      <th>0</th>\n",
       "      <td>✅ Trip Verified |  First our morning flight wa...</td>\n",
       "      <td>5</td>\n",
       "      <td>2023-02-28</td>\n",
       "      <td>Canada</td>\n",
       "      <td>True</td>\n",
       "      <td>first morning flight cancelled moved afternoon...</td>\n",
       "    </tr>\n",
       "    <tr>\n",
       "      <th>1</th>\n",
       "      <td>✅ Trip Verified |  Although it was a bit uncom...</td>\n",
       "      <td>1</td>\n",
       "      <td>2023-02-27</td>\n",
       "      <td>United Kingdom</td>\n",
       "      <td>True</td>\n",
       "      <td>although bit uncomfortable flight economy flig...</td>\n",
       "    </tr>\n",
       "    <tr>\n",
       "      <th>2</th>\n",
       "      <td>✅ Trip Verified |  Boarding was decently organ...</td>\n",
       "      <td>8</td>\n",
       "      <td>2023-02-27</td>\n",
       "      <td>Belgium</td>\n",
       "      <td>True</td>\n",
       "      <td>boarding decently organised still rather stran...</td>\n",
       "    </tr>\n",
       "    <tr>\n",
       "      <th>3</th>\n",
       "      <td>✅ Trip Verified | Boarding on time and departu...</td>\n",
       "      <td>6</td>\n",
       "      <td>2023-02-27</td>\n",
       "      <td>Belgium</td>\n",
       "      <td>True</td>\n",
       "      <td>boarding time departure time flight london hea...</td>\n",
       "    </tr>\n",
       "    <tr>\n",
       "      <th>4</th>\n",
       "      <td>✅ Trip Verified |  My original flight was canc...</td>\n",
       "      <td>7</td>\n",
       "      <td>2023-02-26</td>\n",
       "      <td>United Kingdom</td>\n",
       "      <td>True</td>\n",
       "      <td>original flight cancelled week actual flight a...</td>\n",
       "    </tr>\n",
       "    <tr>\n",
       "      <th>...</th>\n",
       "      <td>...</td>\n",
       "      <td>...</td>\n",
       "      <td>...</td>\n",
       "      <td>...</td>\n",
       "      <td>...</td>\n",
       "      <td>...</td>\n",
       "    </tr>\n",
       "    <tr>\n",
       "      <th>3735</th>\n",
       "      <td>✅ Trip Verified | Flying last Sunday from Gene...</td>\n",
       "      <td>6</td>\n",
       "      <td>2019-02-03</td>\n",
       "      <td>France</td>\n",
       "      <td>True</td>\n",
       "      <td>flying last sunday geneva piladelphia via lond...</td>\n",
       "    </tr>\n",
       "    <tr>\n",
       "      <th>3736</th>\n",
       "      <td>✅ Trip Verified |  London Heathrow to Paris CD...</td>\n",
       "      <td>1</td>\n",
       "      <td>2019-02-03</td>\n",
       "      <td>United States</td>\n",
       "      <td>True</td>\n",
       "      <td>london heathrow paris cdg quick easy flight pa...</td>\n",
       "    </tr>\n",
       "    <tr>\n",
       "      <th>3737</th>\n",
       "      <td>✅ Trip Verified |  Johannesburg to London. At ...</td>\n",
       "      <td>1</td>\n",
       "      <td>2019-02-03</td>\n",
       "      <td>United Kingdom</td>\n",
       "      <td>True</td>\n",
       "      <td>johannesburg london johannesburg used ba galle...</td>\n",
       "    </tr>\n",
       "    <tr>\n",
       "      <th>3738</th>\n",
       "      <td>✅ Trip Verified | Edinburgh to Bangalore via H...</td>\n",
       "      <td>5</td>\n",
       "      <td>2019-02-02</td>\n",
       "      <td>India</td>\n",
       "      <td>True</td>\n",
       "      <td>edinburgh bangalore via heathrow rude staff po...</td>\n",
       "    </tr>\n",
       "    <tr>\n",
       "      <th>3739</th>\n",
       "      <td>✅ Trip Verified |  \\r\\nBerlin to Johannesburg ...</td>\n",
       "      <td>10</td>\n",
       "      <td>2019-02-01</td>\n",
       "      <td>Switzerland</td>\n",
       "      <td>True</td>\n",
       "      <td>berlin johannesburg via london short haul flig...</td>\n",
       "    </tr>\n",
       "  </tbody>\n",
       "</table>\n",
       "<p>3740 rows × 6 columns</p>\n",
       "</div>"
      ],
      "text/plain": [
       "                                                reviews  stars       date  \\\n",
       "0     ✅ Trip Verified |  First our morning flight wa...      5 2023-02-28   \n",
       "1     ✅ Trip Verified |  Although it was a bit uncom...      1 2023-02-27   \n",
       "2     ✅ Trip Verified |  Boarding was decently organ...      8 2023-02-27   \n",
       "3     ✅ Trip Verified | Boarding on time and departu...      6 2023-02-27   \n",
       "4     ✅ Trip Verified |  My original flight was canc...      7 2023-02-26   \n",
       "...                                                 ...    ...        ...   \n",
       "3735  ✅ Trip Verified | Flying last Sunday from Gene...      6 2019-02-03   \n",
       "3736  ✅ Trip Verified |  London Heathrow to Paris CD...      1 2019-02-03   \n",
       "3737  ✅ Trip Verified |  Johannesburg to London. At ...      1 2019-02-03   \n",
       "3738  ✅ Trip Verified | Edinburgh to Bangalore via H...      5 2019-02-02   \n",
       "3739  ✅ Trip Verified |  \\r\\nBerlin to Johannesburg ...     10 2019-02-01   \n",
       "\n",
       "             country  verified  \\\n",
       "0             Canada      True   \n",
       "1     United Kingdom      True   \n",
       "2            Belgium      True   \n",
       "3            Belgium      True   \n",
       "4     United Kingdom      True   \n",
       "...              ...       ...   \n",
       "3735          France      True   \n",
       "3736   United States      True   \n",
       "3737  United Kingdom      True   \n",
       "3738           India      True   \n",
       "3739     Switzerland      True   \n",
       "\n",
       "                                                 corpus  \n",
       "0     first morning flight cancelled moved afternoon...  \n",
       "1     although bit uncomfortable flight economy flig...  \n",
       "2     boarding decently organised still rather stran...  \n",
       "3     boarding time departure time flight london hea...  \n",
       "4     original flight cancelled week actual flight a...  \n",
       "...                                                 ...  \n",
       "3735  flying last sunday geneva piladelphia via lond...  \n",
       "3736  london heathrow paris cdg quick easy flight pa...  \n",
       "3737  johannesburg london johannesburg used ba galle...  \n",
       "3738  edinburgh bangalore via heathrow rude staff po...  \n",
       "3739  berlin johannesburg via london short haul flig...  \n",
       "\n",
       "[3740 rows x 6 columns]"
      ]
     },
     "execution_count": 40,
     "metadata": {},
     "output_type": "execute_result"
    }
   ],
   "source": [
    "#resetting the index\n",
    "df.reset_index(drop=True)"
   ]
  },
  {
   "cell_type": "code",
   "execution_count": 41,
   "id": "53cefea1",
   "metadata": {},
   "outputs": [],
   "source": [
    "# Export the data into csv file\n",
    "import os\n",
    "\n",
    "cwd = os.getcwd()\n",
    "df.to_csv(cwd+ \"/cleaned-BA_reviews.csv\")"
   ]
  },
  {
   "cell_type": "code",
   "execution_count": null,
   "id": "e7953645",
   "metadata": {},
   "outputs": [],
   "source": []
  }
 ],
 "metadata": {
  "kernelspec": {
   "display_name": "Python 3 (ipykernel)",
   "language": "python",
   "name": "python3"
  },
  "language_info": {
   "codemirror_mode": {
    "name": "ipython",
    "version": 3
   },
   "file_extension": ".py",
   "mimetype": "text/x-python",
   "name": "python",
   "nbconvert_exporter": "python",
   "pygments_lexer": "ipython3",
   "version": "3.9.13"
  }
 },
 "nbformat": 4,
 "nbformat_minor": 5
}
